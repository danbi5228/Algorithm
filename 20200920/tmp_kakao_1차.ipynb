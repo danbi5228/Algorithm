{
 "cells": [
  {
   "cell_type": "code",
   "execution_count": 18,
   "metadata": {},
   "outputs": [],
   "source": [
    "def solution(str1, str2):\n",
    "    answer = 0\n",
    "    \n",
    "    str_1 = []\n",
    "    str_2 = []\n",
    "\n",
    "    for i in range(len(str1)):\n",
    "        if i+1 >= len(str1):\n",
    "            break\n",
    "        tmp_str = str1[i] + str1[i+1]\n",
    "        if tmp_str.isalpha():\n",
    "            tmp = tmp_str.lower()\n",
    "            str_1.append(tmp)\n",
    "            \n",
    "    for i in range(len(str2)):\n",
    "        if i+1 >= len(str2):\n",
    "            break\n",
    "        tmp_str = str2[i] + str2[i+1]\n",
    "        if tmp_str.isalpha():\n",
    "            tmp = tmp_str.lower()\n",
    "            str_2.append(tmp)\n",
    "\n",
    "    print(str_1)\n",
    "    print(str_2)\n",
    "    print(str_2 - str_1)\n",
    "    add_group = len(set(str_1) | set(str_2))\n",
    "    min_group = len(set(str_1) & set(str_2))\n",
    "    \n",
    "    if add_group == 0:\n",
    "        answer = (min_group/1)*65536\n",
    "    else:\n",
    "        answer = (min_group/add_group)*65536\n",
    "    \n",
    "    return answer"
   ]
  },
  {
   "cell_type": "code",
   "execution_count": 19,
   "metadata": {},
   "outputs": [
    {
     "name": "stdout",
     "output_type": "stream",
     "text": [
      "['aa', 'aa']\n",
      "['aa', 'aa', 'aa']\n"
     ]
    },
    {
     "ename": "TypeError",
     "evalue": "unsupported operand type(s) for -: 'list' and 'list'",
     "output_type": "error",
     "traceback": [
      "\u001b[0;31m---------------------------------------------------------------------------\u001b[0m",
      "\u001b[0;31mTypeError\u001b[0m                                 Traceback (most recent call last)",
      "\u001b[0;32m<ipython-input-19-f83ec1162eb5>\u001b[0m in \u001b[0;36m<module>\u001b[0;34m\u001b[0m\n\u001b[0;32m----> 1\u001b[0;31m \u001b[0msolution\u001b[0m\u001b[0;34m(\u001b[0m\u001b[0;34m\"aa1+aa2\"\u001b[0m\u001b[0;34m,\u001b[0m \u001b[0;34m\"AAAA12\"\u001b[0m\u001b[0;34m)\u001b[0m\u001b[0;34m\u001b[0m\u001b[0;34m\u001b[0m\u001b[0m\n\u001b[0m",
      "\u001b[0;32m<ipython-input-18-c3b5deb1b0de>\u001b[0m in \u001b[0;36msolution\u001b[0;34m(str1, str2)\u001b[0m\n\u001b[1;32m     23\u001b[0m     \u001b[0mprint\u001b[0m\u001b[0;34m(\u001b[0m\u001b[0mstr_1\u001b[0m\u001b[0;34m)\u001b[0m\u001b[0;34m\u001b[0m\u001b[0;34m\u001b[0m\u001b[0m\n\u001b[1;32m     24\u001b[0m     \u001b[0mprint\u001b[0m\u001b[0;34m(\u001b[0m\u001b[0mstr_2\u001b[0m\u001b[0;34m)\u001b[0m\u001b[0;34m\u001b[0m\u001b[0;34m\u001b[0m\u001b[0m\n\u001b[0;32m---> 25\u001b[0;31m     \u001b[0mprint\u001b[0m\u001b[0;34m(\u001b[0m\u001b[0mstr_2\u001b[0m \u001b[0;34m-\u001b[0m \u001b[0mstr_1\u001b[0m\u001b[0;34m)\u001b[0m\u001b[0;34m\u001b[0m\u001b[0;34m\u001b[0m\u001b[0m\n\u001b[0m\u001b[1;32m     26\u001b[0m     \u001b[0madd_group\u001b[0m \u001b[0;34m=\u001b[0m \u001b[0mlen\u001b[0m\u001b[0;34m(\u001b[0m\u001b[0mset\u001b[0m\u001b[0;34m(\u001b[0m\u001b[0mstr_1\u001b[0m\u001b[0;34m)\u001b[0m \u001b[0;34m|\u001b[0m \u001b[0mset\u001b[0m\u001b[0;34m(\u001b[0m\u001b[0mstr_2\u001b[0m\u001b[0;34m)\u001b[0m\u001b[0;34m)\u001b[0m\u001b[0;34m\u001b[0m\u001b[0;34m\u001b[0m\u001b[0m\n\u001b[1;32m     27\u001b[0m     \u001b[0mmin_group\u001b[0m \u001b[0;34m=\u001b[0m \u001b[0mlen\u001b[0m\u001b[0;34m(\u001b[0m\u001b[0mset\u001b[0m\u001b[0;34m(\u001b[0m\u001b[0mstr_1\u001b[0m\u001b[0;34m)\u001b[0m \u001b[0;34m&\u001b[0m \u001b[0mset\u001b[0m\u001b[0;34m(\u001b[0m\u001b[0mstr_2\u001b[0m\u001b[0;34m)\u001b[0m\u001b[0;34m)\u001b[0m\u001b[0;34m\u001b[0m\u001b[0;34m\u001b[0m\u001b[0m\n",
      "\u001b[0;31mTypeError\u001b[0m: unsupported operand type(s) for -: 'list' and 'list'"
     ]
    }
   ],
   "source": [
    "solution(\"aa1+aa2\", \"AAAA12\")"
   ]
  },
  {
   "cell_type": "code",
   "execution_count": 13,
   "metadata": {},
   "outputs": [
    {
     "data": {
      "text/plain": [
       "26214.4"
      ]
     },
     "execution_count": 13,
     "metadata": {},
     "output_type": "execute_result"
    }
   ],
   "source": [
    "(2/5)*65536"
   ]
  },
  {
   "cell_type": "code",
   "execution_count": null,
   "metadata": {},
   "outputs": [],
   "source": []
  },
  {
   "cell_type": "code",
   "execution_count": 20,
   "metadata": {},
   "outputs": [],
   "source": [
    "import math\n",
    "from copy import copy\n",
    "def solution(str1, str2):\n",
    "    answer = 0\n",
    "    \n",
    "    str_1 = []\n",
    "    str_2 = []\n",
    "    dic_1 = {}\n",
    "    dic_2 = {}\n",
    "    \n",
    "    for i in range(len(str1)):\n",
    "        if i+1 >= len(str1):\n",
    "            break\n",
    "        tmp_str = str1[i] + str1[i+1]\n",
    "        if tmp_str.isalpha():\n",
    "            tmp = tmp_str.lower()\n",
    "            str_1.append(tmp)\n",
    "            \n",
    "    for i in range(len(str2)):\n",
    "        if i+1 >= len(str2):\n",
    "            break\n",
    "        tmp_str = str2[i] + str2[i+1]\n",
    "        if tmp_str.isalpha():\n",
    "            tmp = tmp_str.lower()\n",
    "            str_2.append(tmp)\n",
    "\n",
    "    # add_group = 1 if len(set(str_1) | set(str_2)) == 0 else len(set(str_1) | set(str_2))\n",
    "    # min_group = 1 if len(set(str_1) & set(str_2))== 0 else len(set(str_1) & set(str_2))\n",
    "    \n",
    "    for i in str_1:\n",
    "        if i in dic_1:\n",
    "            dic_1[i] += 1\n",
    "        else:\n",
    "            dic_1[i] = 1\n",
    "    \n",
    "    for i in str_2:\n",
    "        if i in dic_2:\n",
    "            dic_2[i] += 1\n",
    "        else:\n",
    "            dic_2[i] = 1\n",
    "    \n",
    "    # 교집합\n",
    "    min_dic = {}\n",
    "    min_num = 0\n",
    "    for k in dic_1:\n",
    "        if k in dic_2:\n",
    "            min_dic[k] = min(dic_2[k], dic_1[k]) \n",
    "            min_num += min_dic[k]\n",
    "\n",
    "    # 합집합\n",
    "    add_dic = dic_1\n",
    "    add_num = 0\n",
    "    for k in dic_2:\n",
    "        if k in add_dic:\n",
    "            add_dic[k] = max(dic_2[k], add_dic[k])\n",
    "            add_num += add_dic[k]\n",
    "            print(add_dic[k])\n",
    "        else:\n",
    "            add_dic[k] = dic_2[k]\n",
    "            add_num += add_dic[k]\n",
    "            print(add_dic[k])\n",
    "            \n",
    "    print(add_dic)\n",
    "    print(add_num)\n",
    "    print(min_num)\n",
    "    \n",
    "    if add_num+min_num == 0:\n",
    "        answer = 65536\n",
    "    elif add_num+min_num == 1:\n",
    "        if add_num == 1:\n",
    "            answer = (min_num/1)*65536\n",
    "        else:\n",
    "            answer = (1/add_num)*65536\n",
    "    else:\n",
    "        answer = (min_num/add_num)*65536\n",
    "        \n",
    "    return math.trunc(answer)"
   ]
  },
  {
   "cell_type": "code",
   "execution_count": 21,
   "metadata": {},
   "outputs": [
    {
     "name": "stdout",
     "output_type": "stream",
     "text": [
      "1\n",
      "1\n",
      "1\n",
      "1\n",
      "1\n",
      "{'fr': 1, 'ra': 1, 'an': 1, 'nc': 1, 'ce': 1, 're': 1, 'en': 1, 'ch': 1}\n",
      "5\n",
      "2\n"
     ]
    },
    {
     "data": {
      "text/plain": [
       "26214"
      ]
     },
     "execution_count": 21,
     "metadata": {},
     "output_type": "execute_result"
    }
   ],
   "source": [
    "solution(\"FRANCE\", \"french\")"
   ]
  },
  {
   "cell_type": "code",
   "execution_count": null,
   "metadata": {},
   "outputs": [],
   "source": []
  },
  {
   "cell_type": "code",
   "execution_count": 27,
   "metadata": {},
   "outputs": [],
   "source": [
    "def solution(cacheSize, cities):\n",
    "    answer = 0\n",
    "    \n",
    "    # cache = [[0 for x in range(2)] for y in range(cacheSize)]\n",
    "    cache = {}\n",
    "    idx = 0\n",
    "    \n",
    "    if cacheSize == 0:\n",
    "        return len(cities)*5\n",
    "    \n",
    "    for city in cities:\n",
    "        city = city.lower()\n",
    "        if city in cache:\n",
    "            answer += 1\n",
    "        elif len(cache.keys()) < cacheSize:\n",
    "            answer += 5\n",
    "        else:\n",
    "            least_v = sorted(list(cache.values()))[0]\n",
    "            for c in cache:\n",
    "                if cache[c] == least_v:\n",
    "                    del cache[c]\n",
    "                    break\n",
    "            answer += 5\n",
    "        cache[city] = idx\n",
    "        print(cache)\n",
    "        idx+= 1\n",
    "            \n",
    "    return answer"
   ]
  },
  {
   "cell_type": "code",
   "execution_count": 28,
   "metadata": {},
   "outputs": [
    {
     "name": "stdout",
     "output_type": "stream",
     "text": [
      "{'jeju': 0}\n",
      "{'jeju': 0, 'pangyo': 1}\n",
      "{'jeju': 0, 'pangyo': 1, 'seoul': 2}\n",
      "{'pangyo': 1, 'seoul': 2, 'newyork': 3}\n",
      "{'seoul': 2, 'newyork': 3, 'la': 4}\n",
      "{'newyork': 3, 'la': 4, 'sanfrancisco': 5}\n",
      "{'la': 4, 'sanfrancisco': 5, 'seoul': 6}\n",
      "{'sanfrancisco': 5, 'seoul': 6, 'rome': 7}\n",
      "{'seoul': 6, 'rome': 7, 'paris': 8}\n",
      "{'rome': 7, 'paris': 8, 'jeju': 9}\n",
      "{'paris': 8, 'jeju': 9, 'newyork': 10}\n",
      "{'jeju': 9, 'newyork': 10, 'rome': 11}\n"
     ]
    },
    {
     "data": {
      "text/plain": [
       "60"
      ]
     },
     "execution_count": 28,
     "metadata": {},
     "output_type": "execute_result"
    }
   ],
   "source": [
    "solution(5, [\"Jeju\", \"Pangyo\", \"Seoul\", \"NewYork\", \"LA\", \"SanFrancisco\", \"Seoul\", \"Rome\", \"Paris\", \"Jeju\", \"NewYork\", \"Rome\"])"
   ]
  },
  {
   "cell_type": "code",
   "execution_count": null,
   "metadata": {},
   "outputs": [],
   "source": []
  }
 ],
 "metadata": {
  "kernelspec": {
   "display_name": "Python 3",
   "language": "python",
   "name": "python3"
  },
  "language_info": {
   "codemirror_mode": {
    "name": "ipython",
    "version": 3
   },
   "file_extension": ".py",
   "mimetype": "text/x-python",
   "name": "python",
   "nbconvert_exporter": "python",
   "pygments_lexer": "ipython3",
   "version": "3.7.4"
  }
 },
 "nbformat": 4,
 "nbformat_minor": 2
}
